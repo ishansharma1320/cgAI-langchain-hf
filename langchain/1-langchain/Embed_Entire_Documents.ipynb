{
 "cells": [
  {
   "cell_type": "code",
   "execution_count": 2,
   "metadata": {},
   "outputs": [],
   "source": [
    "from langchain_community.document_loaders import PyPDFLoader\n",
    "\n",
    "pdfLoader = PyPDFLoader(\"../Astrology_of_you_me_Aquarius.pdf\")\n",
    "pdf_docs = pdfLoader.load()"
   ]
  },
  {
   "cell_type": "code",
   "execution_count": 4,
   "metadata": {},
   "outputs": [],
   "source": [
    "from langchain_text_splitters.character import RecursiveCharacterTextSplitter\n",
    "\n",
    "\n",
    "text_splitter = RecursiveCharacterTextSplitter(chunk_size=500, chunk_overlap=50)\n",
    "split_documents = text_splitter.split_documents(pdf_docs)\n"
   ]
  },
  {
   "cell_type": "markdown",
   "metadata": {},
   "source": [
    "### OpenAI Embeddings"
   ]
  },
  {
   "cell_type": "code",
   "execution_count": 5,
   "metadata": {},
   "outputs": [
    {
     "data": {
      "text/plain": [
       "OpenAIEmbeddings(client=<openai.resources.embeddings.Embeddings object at 0x11725f910>, async_client=<openai.resources.embeddings.AsyncEmbeddings object at 0x1178d4bb0>, model='text-embedding-3-large', dimensions=None, deployment='text-embedding-ada-002', openai_api_version=None, openai_api_base=None, openai_api_type=None, openai_proxy=None, embedding_ctx_length=8191, openai_api_key=SecretStr('**********'), openai_organization=None, allowed_special=None, disallowed_special=None, chunk_size=1000, max_retries=2, request_timeout=None, headers=None, tiktoken_enabled=True, tiktoken_model_name=None, show_progress_bar=False, model_kwargs={}, skip_empty=False, default_headers=None, default_query=None, retry_min_seconds=4, retry_max_seconds=20, http_client=None, http_async_client=None, check_embedding_ctx_length=True)"
      ]
     },
     "execution_count": 5,
     "metadata": {},
     "output_type": "execute_result"
    }
   ],
   "source": [
    "import os\n",
    "from dotenv import load_dotenv\n",
    "load_dotenv()\n",
    "from langchain_openai import OpenAIEmbeddings\n",
    "os.environ[\"OPENAI_API_KEY\"] = os.getenv(\"OPENAI_API_KEY\")\n",
    "\n",
    "open_ai_embedding_object = OpenAIEmbeddings(model=\"text-embedding-3-large\")\n",
    "open_ai_embedding_object"
   ]
  },
  {
   "cell_type": "code",
   "execution_count": 7,
   "metadata": {},
   "outputs": [],
   "source": [
    "from langchain_community.vectorstores import Chroma\n",
    "\n",
    "db = Chroma.from_documents(split_documents, open_ai_embedding_object, collection_name='openai_embed')"
   ]
  },
  {
   "cell_type": "code",
   "execution_count": 8,
   "metadata": {},
   "outputs": [
    {
     "data": {
      "text/plain": [
       "[Document(metadata={'page': 0, 'source': '../Astrology_of_you_me_Aquarius.pdf'}, page_content='Aquarius\\nBIRTHDATE JANUARY 21–FEBRUARY 19\\nThe fixed air sign Aquarius rules the new age in which we now\\nlive. Governed by the revolutionary planet Uranus, Aquarians\\ntend to be modern, forward-looking individuals who are unusual\\nand accepting of this quality in others. Often the joy and despair\\nof their sweethearts, Aquarians can be maddeningly unstable and\\ncool, neglecting human feelings and making enduring'),\n",
       " Document(metadata={'page': 32, 'source': '../Astrology_of_you_me_Aquarius.pdf'}, page_content='Friends and Family\\nAQUARIUS\\nJanuary 21–February 19\\nThe Aquarius Friend\\nFriendship is extremely important to most Aquarians. For them, it\\noften assumes an idealistic, global, and universal significance more\\nthan a personal one. Consequently, most of their friendships are\\ntinged with a highly abstract and objective quality—cool rather than\\npassionate. Rarely interested in committing themselves to daily or\\neven weekly contact, Aquarians will contact you while they are on the'),\n",
       " Document(metadata={'page': 2, 'source': '../Astrology_of_you_me_Aquarius.pdf'}, page_content='Work\\nAQUARIUS\\nJanuary 21–February 19\\nThe Aquarius Boss\\nSince Aquarians are not particularly suited to be bosses, they are,\\ngenerally speaking, rather few and far between. There are several\\nreasons for this, among them their erratic and impulsive behavior,\\nneed to act on their own, lightning-quick moves, and general\\ndisinterest in holding power over others or setting up a dynasty. That\\nsaid, if you have an Aquarius boss, at least you have been forewarned.'),\n",
       " Document(metadata={'page': 19, 'source': '../Astrology_of_you_me_Aquarius.pdf'}, page_content='Love\\nAQUARIUS\\nJanuary 21–February 19\\nThe Aquarius First Date\\nAquarius first dates are, for the most part, lively and fun-loving. Not\\ninterested in hassles or complications, these colorful personalities just\\nwant to have a good time. An opportunity to get to know you better\\nand possible deep involvements lie somewhere way down the tracks.\\nTo stay on the rails with Aquarius first dates, you should offer a few\\nchoices of restaurants, bars, clubs, or concerts for them to pick from.')]"
      ]
     },
     "execution_count": 8,
     "metadata": {},
     "output_type": "execute_result"
    }
   ],
   "source": [
    "query = \"What are the months for Aquarius?\"\n",
    "\n",
    "retrieved_results = db.similarity_search(query)\n",
    "\n",
    "retrieved_results"
   ]
  },
  {
   "cell_type": "markdown",
   "metadata": {},
   "source": [
    "### Ollama Embeddings"
   ]
  },
  {
   "cell_type": "code",
   "execution_count": 14,
   "metadata": {},
   "outputs": [],
   "source": [
    "from langchain_community.embeddings import OllamaEmbeddings\n",
    "\n",
    "ollama_embed = OllamaEmbeddings(model=\"nomic-embed-text:latest\")\n",
    "db_ollama = Chroma.from_documents(split_documents, ollama_embed, collection_name='nomic_embed_ollama_embed')"
   ]
  },
  {
   "cell_type": "code",
   "execution_count": 15,
   "metadata": {},
   "outputs": [
    {
     "data": {
      "text/plain": [
       "[Document(metadata={'page': 0, 'source': '../Astrology_of_you_me_Aquarius.pdf'}, page_content='Aquarius\\nBIRTHDATE JANUARY 21–FEBRUARY 19\\nThe fixed air sign Aquarius rules the new age in which we now\\nlive. Governed by the revolutionary planet Uranus, Aquarians\\ntend to be modern, forward-looking individuals who are unusual\\nand accepting of this quality in others. Often the joy and despair\\nof their sweethearts, Aquarians can be maddeningly unstable and\\ncool, neglecting human feelings and making enduring'),\n",
       " Document(metadata={'page': 0, 'source': '../Astrology_of_you_me_Aquarius.pdf'}, page_content='Aquarius\\nBIRTHDATE JANUARY 21–FEBRUARY 19\\nThe fixed air sign Aquarius rules the new age in which we now\\nlive. Governed by the revolutionary planet Uranus, Aquarians\\ntend to be modern, forward-looking individuals who are unusual\\nand accepting of this quality in others. Often the joy and despair\\nof their sweethearts, Aquarians can be maddeningly unstable and\\ncool, neglecting human feelings and making enduring'),\n",
       " Document(metadata={'page': 19, 'source': '../Astrology_of_you_me_Aquarius.pdf'}, page_content='Love\\nAQUARIUS\\nJanuary 21–February 19\\nThe Aquarius First Date\\nAquarius first dates are, for the most part, lively and fun-loving. Not\\ninterested in hassles or complications, these colorful personalities just\\nwant to have a good time. An opportunity to get to know you better\\nand possible deep involvements lie somewhere way down the tracks.\\nTo stay on the rails with Aquarius first dates, you should offer a few\\nchoices of restaurants, bars, clubs, or concerts for them to pick from.'),\n",
       " Document(metadata={'page': 19, 'source': '../Astrology_of_you_me_Aquarius.pdf'}, page_content='Love\\nAQUARIUS\\nJanuary 21–February 19\\nThe Aquarius First Date\\nAquarius first dates are, for the most part, lively and fun-loving. Not\\ninterested in hassles or complications, these colorful personalities just\\nwant to have a good time. An opportunity to get to know you better\\nand possible deep involvements lie somewhere way down the tracks.\\nTo stay on the rails with Aquarius first dates, you should offer a few\\nchoices of restaurants, bars, clubs, or concerts for them to pick from.')]"
      ]
     },
     "execution_count": 15,
     "metadata": {},
     "output_type": "execute_result"
    }
   ],
   "source": [
    "query = \"What are the months for Aquarius?\"\n",
    "\n",
    "retrieved_results = db_ollama.similarity_search(query)\n",
    "\n",
    "retrieved_results"
   ]
  },
  {
   "cell_type": "markdown",
   "metadata": {},
   "source": [
    "### Huggingface Embeddings"
   ]
  },
  {
   "cell_type": "code",
   "execution_count": null,
   "metadata": {},
   "outputs": [],
   "source": [
    "import os\n",
    "from dotenv import load_dotenv\n",
    "load_dotenv()\n",
    "\n",
    "os.environ[\"HF_TOKEN\"] = os.getenv(\"HUGGINGFACE_API_KEY\")"
   ]
  },
  {
   "cell_type": "code",
   "execution_count": 16,
   "metadata": {},
   "outputs": [
    {
     "name": "stderr",
     "output_type": "stream",
     "text": [
      "/Users/ishansharma/miniconda3/envs/langchain_env/lib/python3.10/site-packages/tqdm/auto.py:21: TqdmWarning: IProgress not found. Please update jupyter and ipywidgets. See https://ipywidgets.readthedocs.io/en/stable/user_install.html\n",
      "  from .autonotebook import tqdm as notebook_tqdm\n"
     ]
    }
   ],
   "source": [
    "from langchain_huggingface import HuggingFaceEmbeddings\n",
    "\n",
    "hf_embed = HuggingFaceEmbeddings(model_name=\"sentence-transformers/all-mpnet-base-v2\")"
   ]
  },
  {
   "cell_type": "code",
   "execution_count": 18,
   "metadata": {},
   "outputs": [],
   "source": [
    "db_hf = Chroma.from_documents(split_documents, hf_embed, collection_name='hf_mpnet_v2_embed')"
   ]
  },
  {
   "cell_type": "code",
   "execution_count": 19,
   "metadata": {},
   "outputs": [
    {
     "data": {
      "text/plain": [
       "[Document(metadata={'page': 0, 'source': '../Astrology_of_you_me_Aquarius.pdf'}, page_content='Aquarius\\nBIRTHDATE JANUARY 21–FEBRUARY 19\\nThe fixed air sign Aquarius rules the new age in which we now\\nlive. Governed by the revolutionary planet Uranus, Aquarians\\ntend to be modern, forward-looking individuals who are unusual\\nand accepting of this quality in others. Often the joy and despair\\nof their sweethearts, Aquarians can be maddeningly unstable and\\ncool, neglecting human feelings and making enduring'),\n",
       " Document(metadata={'page': 32, 'source': '../Astrology_of_you_me_Aquarius.pdf'}, page_content='Friends and Family\\nAQUARIUS\\nJanuary 21–February 19\\nThe Aquarius Friend\\nFriendship is extremely important to most Aquarians. For them, it\\noften assumes an idealistic, global, and universal significance more\\nthan a personal one. Consequently, most of their friendships are\\ntinged with a highly abstract and objective quality—cool rather than\\npassionate. Rarely interested in committing themselves to daily or\\neven weekly contact, Aquarians will contact you while they are on the'),\n",
       " Document(metadata={'page': 19, 'source': '../Astrology_of_you_me_Aquarius.pdf'}, page_content='Love\\nAQUARIUS\\nJanuary 21–February 19\\nThe Aquarius First Date\\nAquarius first dates are, for the most part, lively and fun-loving. Not\\ninterested in hassles or complications, these colorful personalities just\\nwant to have a good time. An opportunity to get to know you better\\nand possible deep involvements lie somewhere way down the tracks.\\nTo stay on the rails with Aquarius first dates, you should offer a few\\nchoices of restaurants, bars, clubs, or concerts for them to pick from.'),\n",
       " Document(metadata={'page': 36, 'source': '../Astrology_of_you_me_Aquarius.pdf'}, page_content='Tolerant Evasive Detached\\nAccepting Forgetful Capricious\\nOpen Uninvolved Individualistic\\nSharing Financial Responsibilities with the Aquarius Roommate\\nUnfortunately, Aquarius roommates are often hopeless with money.\\nThey spend it so quickly that they are invariably caught short at the\\nend of the month. Owing you for rent unfortunately can become a\\npattern, although when they are flush with cash they are likely to\\nthrow a whole bunch of it your way. When it comes to making')]"
      ]
     },
     "execution_count": 19,
     "metadata": {},
     "output_type": "execute_result"
    }
   ],
   "source": [
    "query = \"What are the months for Aquarius?\"\n",
    "\n",
    "retrieved_results = db_hf.similarity_search(query)\n",
    "\n",
    "retrieved_results"
   ]
  }
 ],
 "metadata": {
  "kernelspec": {
   "display_name": "langchain_env",
   "language": "python",
   "name": "python3"
  },
  "language_info": {
   "codemirror_mode": {
    "name": "ipython",
    "version": 3
   },
   "file_extension": ".py",
   "mimetype": "text/x-python",
   "name": "python",
   "nbconvert_exporter": "python",
   "pygments_lexer": "ipython3",
   "version": "3.10.16"
  }
 },
 "nbformat": 4,
 "nbformat_minor": 2
}
