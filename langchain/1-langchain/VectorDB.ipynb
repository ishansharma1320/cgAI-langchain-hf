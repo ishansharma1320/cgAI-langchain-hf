{
 "cells": [
  {
   "cell_type": "code",
   "execution_count": 9,
   "metadata": {},
   "outputs": [],
   "source": [
    "from langchain_community.document_loaders import PyPDFLoader\n",
    "\n",
    "pdfLoader = PyPDFLoader(\"../Astrology_of_you_me_Aquarius.pdf\")\n",
    "pdf_docs = pdfLoader.load()"
   ]
  },
  {
   "cell_type": "code",
   "execution_count": 10,
   "metadata": {},
   "outputs": [],
   "source": [
    "from langchain_text_splitters.character import RecursiveCharacterTextSplitter\n",
    "\n",
    "\n",
    "text_splitter = RecursiveCharacterTextSplitter(chunk_size=500, chunk_overlap=50)\n",
    "split_documents = text_splitter.split_documents(pdf_docs)"
   ]
  },
  {
   "cell_type": "code",
   "execution_count": 11,
   "metadata": {},
   "outputs": [],
   "source": [
    "import os\n",
    "from dotenv import load_dotenv\n",
    "load_dotenv()\n",
    "\n",
    "os.environ[\"HF_TOKEN\"] = os.getenv(\"HUGGINGFACE_API_KEY\")"
   ]
  },
  {
   "cell_type": "code",
   "execution_count": 12,
   "metadata": {},
   "outputs": [],
   "source": [
    "from langchain_huggingface import HuggingFaceEmbeddings\n",
    "\n",
    "hf_embed = HuggingFaceEmbeddings(model_name=\"sentence-transformers/all-mpnet-base-v2\")"
   ]
  },
  {
   "cell_type": "code",
   "execution_count": 13,
   "metadata": {},
   "outputs": [],
   "source": [
    "from langchain_community.vectorstores import FAISS\n",
    "\n",
    "db = FAISS.from_documents(split_documents, hf_embed)"
   ]
  },
  {
   "cell_type": "code",
   "execution_count": 14,
   "metadata": {},
   "outputs": [
    {
     "data": {
      "text/plain": [
       "[Document(id='9530dfe2-2dc3-41a2-964b-2f74f48fcc5a', metadata={'source': '../Astrology_of_you_me_Aquarius.pdf', 'page': 0}, page_content='Aquarius\\nBIRTHDATE JANUARY 21–FEBRUARY 19\\nThe fixed air sign Aquarius rules the new age in which we now\\nlive. Governed by the revolutionary planet Uranus, Aquarians\\ntend to be modern, forward-looking individuals who are unusual\\nand accepting of this quality in others. Often the joy and despair\\nof their sweethearts, Aquarians can be maddeningly unstable and\\ncool, neglecting human feelings and making enduring'),\n",
       " Document(id='86c685d8-8469-4835-b5eb-05076ee28706', metadata={'source': '../Astrology_of_you_me_Aquarius.pdf', 'page': 32}, page_content='Friends and Family\\nAQUARIUS\\nJanuary 21–February 19\\nThe Aquarius Friend\\nFriendship is extremely important to most Aquarians. For them, it\\noften assumes an idealistic, global, and universal significance more\\nthan a personal one. Consequently, most of their friendships are\\ntinged with a highly abstract and objective quality—cool rather than\\npassionate. Rarely interested in committing themselves to daily or\\neven weekly contact, Aquarians will contact you while they are on the'),\n",
       " Document(id='49f49e6d-04cc-4acb-812d-7b1d56081e48', metadata={'source': '../Astrology_of_you_me_Aquarius.pdf', 'page': 19}, page_content='Love\\nAQUARIUS\\nJanuary 21–February 19\\nThe Aquarius First Date\\nAquarius first dates are, for the most part, lively and fun-loving. Not\\ninterested in hassles or complications, these colorful personalities just\\nwant to have a good time. An opportunity to get to know you better\\nand possible deep involvements lie somewhere way down the tracks.\\nTo stay on the rails with Aquarius first dates, you should offer a few\\nchoices of restaurants, bars, clubs, or concerts for them to pick from.'),\n",
       " Document(id='a86dfcca-9847-4fe9-beb5-8ea5189995ef', metadata={'source': '../Astrology_of_you_me_Aquarius.pdf', 'page': 36}, page_content='Tolerant Evasive Detached\\nAccepting Forgetful Capricious\\nOpen Uninvolved Individualistic\\nSharing Financial Responsibilities with the Aquarius Roommate\\nUnfortunately, Aquarius roommates are often hopeless with money.\\nThey spend it so quickly that they are invariably caught short at the\\nend of the month. Owing you for rent unfortunately can become a\\npattern, although when they are flush with cash they are likely to\\nthrow a whole bunch of it your way. When it comes to making')]"
      ]
     },
     "execution_count": 14,
     "metadata": {},
     "output_type": "execute_result"
    }
   ],
   "source": [
    "query = \"What are the months for Aquarius?\"\n",
    "\n",
    "retrieved_results = db.similarity_search(query)\n",
    "\n",
    "retrieved_results"
   ]
  },
  {
   "cell_type": "markdown",
   "metadata": {},
   "source": [
    "### To use vectorstore with langchain, convert to retriever class"
   ]
  },
  {
   "cell_type": "code",
   "execution_count": 15,
   "metadata": {},
   "outputs": [
    {
     "data": {
      "text/plain": [
       "[Document(id='9530dfe2-2dc3-41a2-964b-2f74f48fcc5a', metadata={'source': '../Astrology_of_you_me_Aquarius.pdf', 'page': 0}, page_content='Aquarius\\nBIRTHDATE JANUARY 21–FEBRUARY 19\\nThe fixed air sign Aquarius rules the new age in which we now\\nlive. Governed by the revolutionary planet Uranus, Aquarians\\ntend to be modern, forward-looking individuals who are unusual\\nand accepting of this quality in others. Often the joy and despair\\nof their sweethearts, Aquarians can be maddeningly unstable and\\ncool, neglecting human feelings and making enduring'),\n",
       " Document(id='86c685d8-8469-4835-b5eb-05076ee28706', metadata={'source': '../Astrology_of_you_me_Aquarius.pdf', 'page': 32}, page_content='Friends and Family\\nAQUARIUS\\nJanuary 21–February 19\\nThe Aquarius Friend\\nFriendship is extremely important to most Aquarians. For them, it\\noften assumes an idealistic, global, and universal significance more\\nthan a personal one. Consequently, most of their friendships are\\ntinged with a highly abstract and objective quality—cool rather than\\npassionate. Rarely interested in committing themselves to daily or\\neven weekly contact, Aquarians will contact you while they are on the'),\n",
       " Document(id='49f49e6d-04cc-4acb-812d-7b1d56081e48', metadata={'source': '../Astrology_of_you_me_Aquarius.pdf', 'page': 19}, page_content='Love\\nAQUARIUS\\nJanuary 21–February 19\\nThe Aquarius First Date\\nAquarius first dates are, for the most part, lively and fun-loving. Not\\ninterested in hassles or complications, these colorful personalities just\\nwant to have a good time. An opportunity to get to know you better\\nand possible deep involvements lie somewhere way down the tracks.\\nTo stay on the rails with Aquarius first dates, you should offer a few\\nchoices of restaurants, bars, clubs, or concerts for them to pick from.'),\n",
       " Document(id='a86dfcca-9847-4fe9-beb5-8ea5189995ef', metadata={'source': '../Astrology_of_you_me_Aquarius.pdf', 'page': 36}, page_content='Tolerant Evasive Detached\\nAccepting Forgetful Capricious\\nOpen Uninvolved Individualistic\\nSharing Financial Responsibilities with the Aquarius Roommate\\nUnfortunately, Aquarius roommates are often hopeless with money.\\nThey spend it so quickly that they are invariably caught short at the\\nend of the month. Owing you for rent unfortunately can become a\\npattern, although when they are flush with cash they are likely to\\nthrow a whole bunch of it your way. When it comes to making')]"
      ]
     },
     "execution_count": 15,
     "metadata": {},
     "output_type": "execute_result"
    }
   ],
   "source": [
    "faiss_retriever = db.as_retriever()\n",
    "faiss_retriever.invoke(query)"
   ]
  },
  {
   "cell_type": "markdown",
   "metadata": {},
   "source": [
    "### Similarity Search with Score"
   ]
  },
  {
   "cell_type": "code",
   "execution_count": 16,
   "metadata": {},
   "outputs": [
    {
     "data": {
      "text/plain": [
       "[(Document(id='9530dfe2-2dc3-41a2-964b-2f74f48fcc5a', metadata={'source': '../Astrology_of_you_me_Aquarius.pdf', 'page': 0}, page_content='Aquarius\\nBIRTHDATE JANUARY 21–FEBRUARY 19\\nThe fixed air sign Aquarius rules the new age in which we now\\nlive. Governed by the revolutionary planet Uranus, Aquarians\\ntend to be modern, forward-looking individuals who are unusual\\nand accepting of this quality in others. Often the joy and despair\\nof their sweethearts, Aquarians can be maddeningly unstable and\\ncool, neglecting human feelings and making enduring'),\n",
       "  0.6573292),\n",
       " (Document(id='86c685d8-8469-4835-b5eb-05076ee28706', metadata={'source': '../Astrology_of_you_me_Aquarius.pdf', 'page': 32}, page_content='Friends and Family\\nAQUARIUS\\nJanuary 21–February 19\\nThe Aquarius Friend\\nFriendship is extremely important to most Aquarians. For them, it\\noften assumes an idealistic, global, and universal significance more\\nthan a personal one. Consequently, most of their friendships are\\ntinged with a highly abstract and objective quality—cool rather than\\npassionate. Rarely interested in committing themselves to daily or\\neven weekly contact, Aquarians will contact you while they are on the'),\n",
       "  0.69686043),\n",
       " (Document(id='49f49e6d-04cc-4acb-812d-7b1d56081e48', metadata={'source': '../Astrology_of_you_me_Aquarius.pdf', 'page': 19}, page_content='Love\\nAQUARIUS\\nJanuary 21–February 19\\nThe Aquarius First Date\\nAquarius first dates are, for the most part, lively and fun-loving. Not\\ninterested in hassles or complications, these colorful personalities just\\nwant to have a good time. An opportunity to get to know you better\\nand possible deep involvements lie somewhere way down the tracks.\\nTo stay on the rails with Aquarius first dates, you should offer a few\\nchoices of restaurants, bars, clubs, or concerts for them to pick from.'),\n",
       "  0.8207655),\n",
       " (Document(id='a86dfcca-9847-4fe9-beb5-8ea5189995ef', metadata={'source': '../Astrology_of_you_me_Aquarius.pdf', 'page': 36}, page_content='Tolerant Evasive Detached\\nAccepting Forgetful Capricious\\nOpen Uninvolved Individualistic\\nSharing Financial Responsibilities with the Aquarius Roommate\\nUnfortunately, Aquarius roommates are often hopeless with money.\\nThey spend it so quickly that they are invariably caught short at the\\nend of the month. Owing you for rent unfortunately can become a\\npattern, although when they are flush with cash they are likely to\\nthrow a whole bunch of it your way. When it comes to making'),\n",
       "  0.8219104)]"
      ]
     },
     "execution_count": 16,
     "metadata": {},
     "output_type": "execute_result"
    }
   ],
   "source": [
    "docs_with_sscore = db.similarity_search_with_score(query)\n",
    "docs_with_sscore"
   ]
  }
 ],
 "metadata": {
  "kernelspec": {
   "display_name": "langchain_env",
   "language": "python",
   "name": "python3"
  },
  "language_info": {
   "codemirror_mode": {
    "name": "ipython",
    "version": 3
   },
   "file_extension": ".py",
   "mimetype": "text/x-python",
   "name": "python",
   "nbconvert_exporter": "python",
   "pygments_lexer": "ipython3",
   "version": "3.10.16"
  }
 },
 "nbformat": 4,
 "nbformat_minor": 2
}
